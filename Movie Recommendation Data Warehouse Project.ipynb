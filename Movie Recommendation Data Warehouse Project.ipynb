{
 "cells": [
  {
   "cell_type": "code",
   "execution_count": 1,
   "id": "802fbd50",
   "metadata": {},
   "outputs": [],
   "source": [
    "#Movie Recommendation Data Warehouse Project"
   ]
  },
  {
   "cell_type": "code",
   "execution_count": 2,
   "id": "210b278d",
   "metadata": {},
   "outputs": [],
   "source": [
    "# #Connection to SQL DataBase\n",
    "# import mysql.connector\n",
    "\n",
    "# # Define the database connection details\n",
    "# host = 'localhost'\n",
    "# port = '3306'\n",
    "# database = 'sys'\n",
    "# user = 'root'\n",
    "# password = 'my_password'\n",
    "\n",
    "# # Connect to the database\n",
    "# conn = mysql.connector.connect(host=host, port=port, database=database, user=user, password=password)"
   ]
  },
  {
   "cell_type": "code",
   "execution_count": 3,
   "id": "d5f43333",
   "metadata": {},
   "outputs": [],
   "source": [
    "# cur = conn.cursor()\n",
    "\n",
    "# cur.execute(\"\"\"\n",
    "# CREATE TABLE users (\n",
    "#   user_id INT PRIMARY KEY,\n",
    "#   name VARCHAR(255),\n",
    "#   email VARCHAR(255),\n",
    "#   created_at DATETIME\n",
    "# );\n",
    "\n",
    "# CREATE TABLE watch_history (\n",
    "#     user_id INT,\n",
    "#     movie_id INT,\n",
    "#     rating INT,\n",
    "#     watch_date DATE\n",
    "# );\n",
    "\n",
    "# CREATE TABLE movie_data (\n",
    "#     index INT,\n",
    "#     budget INT,\n",
    "#     genres TEXT,\n",
    "#     id INT,\n",
    "#     keywords TEXT,\n",
    "#     original_title TEXT,\n",
    "#     overview TEXT,\n",
    "#     popularity FLOAT,\n",
    "#     release_date DATE,\n",
    "#     revenue INT,\n",
    "#     runtime FLOAT,\n",
    "#     spoken_languages TEXT,\n",
    "#     tagline TEXT,\n",
    "#     title TEXT,\n",
    "#     vote_average FLOAT,\n",
    "#     vote_count INT,\n",
    "#     cast TEXT,\n",
    "#     director TEXT,\n",
    "#     features TEXT\n",
    "# );\n",
    "\n",
    "\n",
    "# CREATE VIEW user_movie_ratings AS\n",
    "# SELECT u.username, m.title, w.rating\n",
    "# FROM user_data u\n",
    "# INNER JOIN watch_history w ON u.id = w.user_id\n",
    "# INNER JOIN movies_data m ON w.movie_id = m.id;\n",
    "\n",
    "\n",
    "\n",
    "# \"\"\")\n",
    "\n",
    "\n",
    "# # Commit the changes to the database\n",
    "# conn.commit()\n",
    "\n",
    "# # Close the cursor and the database connection\n",
    "# cur.close()\n",
    "# conn.close()"
   ]
  },
  {
   "cell_type": "code",
   "execution_count": 4,
   "id": "ceffa35b",
   "metadata": {},
   "outputs": [],
   "source": [
    "# cur.execute = (\"\"\"\n",
    "# INSERT INTO user_data (username, password, email, age, gender)\n",
    "# VALUES ('Vijay', 'mypassword123', 'Vijay@example.com', 51, 'Male'),\n",
    "#        ('vedanshi', 'mypassword456', 'vedanshi@example.com', 23, 'Female'),\n",
    "#        ('Jyoti', 'password', 'jai@example.com', 49, 'Female'),\n",
    "#        ('Shivank', 'mypassword789', 'shivank@example.com', 21, 'Male');\n",
    "       \n",
    "# INSERT INTO watch_history (user_id, movie_id, rating)\n",
    "# VALUES (1, 2, 4),\n",
    "#        (1, 3, 3),\n",
    "#        (1, 1, 5),\n",
    "#        (2, 4, 2),\n",
    "#        (4, 1, 3),\n",
    "#        (4, 3, 4);\n",
    "\n",
    "       \n",
    "       \n",
    "# \"\"\")\n",
    "# # Commit the changes to the database\n",
    "# conn.commit()\n",
    "\n",
    "# # Close the cursor and the database connection\n",
    "# cur.close()\n",
    "# conn.close()\n",
    "\n",
    "       \n",
    "\n",
    "\n",
    "    "
   ]
  },
  {
   "cell_type": "code",
   "execution_count": 6,
   "id": "b27c5f48",
   "metadata": {},
   "outputs": [],
   "source": [
    "# Fetching the movies which user 1 rated"
   ]
  },
  {
   "cell_type": "code",
   "execution_count": 7,
   "id": "62270bad",
   "metadata": {},
   "outputs": [],
   "source": [
    "# cur.execute = (\"\"\"\n",
    "\n",
    "# Select * from dbo.[user_movie_ratings] where user_id = 1;\n",
    "# watched_movies = cur.fetchall()\n",
    "\n",
    "# \"\"\")\n",
    "\n",
    "# # Close the cursor and the database connection\n",
    "# cur.close()\n",
    "# conn.close()\n"
   ]
  },
  {
   "cell_type": "code",
   "execution_count": 8,
   "id": "d042e3a6",
   "metadata": {},
   "outputs": [],
   "source": [
    "#importing necessary Libraries\n",
    "import numpy as np\n",
    "import pandas as pd\n",
    "import difflib\n",
    "from sklearn.feature_extraction.text import TfidfVectorizer\n",
    "from sklearn.metrics.pairwise import cosine_similarity"
   ]
  },
  {
   "cell_type": "code",
   "execution_count": 9,
   "id": "f82d2f83",
   "metadata": {},
   "outputs": [],
   "source": [
    "#importing Data\n",
    "df = pd.read_csv('movies.csv')"
   ]
  },
  {
   "cell_type": "code",
   "execution_count": 10,
   "id": "b9b2a0da",
   "metadata": {},
   "outputs": [
    {
     "data": {
      "text/plain": [
       "Index(['index', 'budget', 'genres', 'homepage', 'id', 'keywords',\n",
       "       'original_language', 'original_title', 'overview', 'popularity',\n",
       "       'production_companies', 'production_countries', 'release_date',\n",
       "       'revenue', 'runtime', 'spoken_languages', 'status', 'tagline', 'title',\n",
       "       'vote_average', 'vote_count', 'cast', 'crew', 'director'],\n",
       "      dtype='object')"
      ]
     },
     "execution_count": 10,
     "metadata": {},
     "output_type": "execute_result"
    }
   ],
   "source": [
    "df.columns"
   ]
  },
  {
   "cell_type": "code",
   "execution_count": 11,
   "id": "15476ca1",
   "metadata": {},
   "outputs": [],
   "source": [
    "#Filling Null Values \n",
    "df = df.fillna(' ')"
   ]
  },
  {
   "cell_type": "code",
   "execution_count": 12,
   "id": "e062f738",
   "metadata": {},
   "outputs": [],
   "source": [
    "#Making New Column For Main Features\n",
    "df['Features'] = df['genres']+' '+df['keywords']+' '+df['tagline']+' '+df['cast']+' '+df['director']"
   ]
  },
  {
   "cell_type": "code",
   "execution_count": 13,
   "id": "ee028481",
   "metadata": {},
   "outputs": [],
   "source": [
    "#Dropping unnecessary Columns\n",
    "df.drop(['homepage', 'crew', 'status', 'original_language', 'production_companies', 'production_countries'], axis=1, inplace=True)"
   ]
  },
  {
   "cell_type": "code",
   "execution_count": 14,
   "id": "9f837403",
   "metadata": {},
   "outputs": [],
   "source": [
    "# movies user has already watched\n",
    "watched_movies = ['Iron Man', 'Bat Man', 'Avengers']"
   ]
  },
  {
   "cell_type": "code",
   "execution_count": 15,
   "id": "d0409c61",
   "metadata": {},
   "outputs": [],
   "source": [
    "#Removing those Movies from Our data Frame\n",
    "df = df[~df['title'].isin(watched_movies)]"
   ]
  },
  {
   "cell_type": "code",
   "execution_count": 16,
   "id": "99940a96",
   "metadata": {},
   "outputs": [],
   "source": [
    "#Making those Features into Vector\n",
    "features = df['Features']\n",
    "vec = TfidfVectorizer()\n",
    "feature_vector = vec.fit_transform(features)"
   ]
  },
  {
   "cell_type": "code",
   "execution_count": 17,
   "id": "54044342",
   "metadata": {},
   "outputs": [],
   "source": [
    "#Finding Cosine Similarity\n",
    "cs = cosine_similarity(feature_vector)\n"
   ]
  },
  {
   "cell_type": "code",
   "execution_count": 19,
   "id": "06ce0a10",
   "metadata": {},
   "outputs": [],
   "source": [
    "def suggest_movies(movie_name):\n",
    "    # Find the closest matching movie name in the list\n",
    "    find_close_match = difflib.get_close_matches(movie_name, df['title'].tolist())\n",
    "    close_match = find_close_match[0]\n",
    "\n",
    "    # Find the index of the closest matching movie in the DataFrame\n",
    "    index_movie = df[df.title == close_match].index[0]\n",
    "\n",
    "    # Calculate the similarity score between the closest matching movie and all other movies in the DataFrame\n",
    "    similarity_score = list(enumerate(cs[index_movie]))\n",
    "\n",
    "    # Sort the movies by similarity score\n",
    "    sorted_movies = sorted(similarity_score, key=lambda x: x[1], reverse=True)\n",
    "\n",
    "    # Print the top 30 suggested movies\n",
    "    suggested_movies = []\n",
    "    i = 1\n",
    "    for movie in sorted_movies:\n",
    "        index = movie[0]\n",
    "        title_from_index = df.iloc[index]['title']\n",
    "        if (i < 6):\n",
    "            suggested_movies.append(title_from_index)\n",
    "            i += 1\n",
    "        else:\n",
    "            break\n",
    "    \n",
    "    return suggested_movies"
   ]
  },
  {
   "cell_type": "code",
   "execution_count": 20,
   "id": "710c7cd6",
   "metadata": {},
   "outputs": [],
   "source": [
    "# Get movie recommendations for the viewer\n",
    "watched_movies_recommendations = []\n",
    "for watched_movie in watched_movies:\n",
    "    watched_movie_recommendations = suggest_movies(watched_movie)\n",
    "    watched_movies_recommendations.extend(watched_movie_recommendations)"
   ]
  },
  {
   "cell_type": "code",
   "execution_count": 24,
   "id": "b667c6c1",
   "metadata": {},
   "outputs": [
    {
     "name": "stdout",
     "output_type": "stream",
     "text": [
      "Here are some recommended movies for you based on your watch history\n",
      "1. Knight and Day\n",
      "2. Criminal\n",
      "3. Bad Boys II\n",
      "4. The Avengers\n",
      "5. Captain America: The Winter Soldier\n",
      "6. Captain America: Civil War\n",
      "7. Riddick\n",
      "8. There Be Dragons\n",
      "9. Avengers: Age of Ultron\n",
      "10. Iron Man 2\n",
      "11. Iron Man 3\n"
     ]
    }
   ],
   "source": [
    "print(\"Here are some recommended movies for you based on your watch history\")\n",
    "for i, movie in enumerate(set(watched_movies_recommendations)):\n",
    "    print(f\"{i+1}. {movie}\")"
   ]
  },
  {
   "cell_type": "code",
   "execution_count": null,
   "id": "db64725e",
   "metadata": {},
   "outputs": [],
   "source": []
  },
  {
   "cell_type": "code",
   "execution_count": null,
   "id": "b693a060",
   "metadata": {},
   "outputs": [],
   "source": []
  }
 ],
 "metadata": {
  "kernelspec": {
   "display_name": "Python 3 (ipykernel)",
   "language": "python",
   "name": "python3"
  },
  "language_info": {
   "codemirror_mode": {
    "name": "ipython",
    "version": 3
   },
   "file_extension": ".py",
   "mimetype": "text/x-python",
   "name": "python",
   "nbconvert_exporter": "python",
   "pygments_lexer": "ipython3",
   "version": "3.9.12"
  }
 },
 "nbformat": 4,
 "nbformat_minor": 5
}
